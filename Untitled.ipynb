{
 "cells": [
  {
   "cell_type": "code",
   "execution_count": 111,
   "id": "1f3b2291-a47f-480b-9168-c3f336f82569",
   "metadata": {},
   "outputs": [
    {
     "name": "stdout",
     "output_type": "stream",
     "text": [
      "[[3]]\n",
      "1\n",
      "[[3], [5]]\n",
      "2\n",
      "[[3], [5], [7]]\n",
      "3\n"
     ]
    }
   ],
   "source": [
    "odd = []\n",
    "li = ['test']\n",
    "prev = 1\n",
    "\n",
    "for i in range(3):\n",
    "    x = prev + 2\n",
    "    li[0] = x\n",
    "\n",
    "    odd.append(li.copy())\n",
    "    print(odd)\n",
    "    prev = x\n",
    "    print(len(odd))"
   ]
  },
  {
   "cell_type": "code",
   "execution_count": 112,
   "id": "36574f29-428f-46ef-97de-a037ca6cafd0",
   "metadata": {},
   "outputs": [
    {
     "name": "stdout",
     "output_type": "stream",
     "text": [
      "[[3], [5], [7]]\n"
     ]
    }
   ],
   "source": [
    "print(odd)"
   ]
  },
  {
   "cell_type": "code",
   "execution_count": null,
   "id": "60acd4ae-b5b4-4a55-99de-8bec2515d932",
   "metadata": {},
   "outputs": [],
   "source": []
  }
 ],
 "metadata": {
  "kernelspec": {
   "display_name": "Python 3 (ipykernel)",
   "language": "python",
   "name": "python3"
  },
  "language_info": {
   "codemirror_mode": {
    "name": "ipython",
    "version": 3
   },
   "file_extension": ".py",
   "mimetype": "text/x-python",
   "name": "python",
   "nbconvert_exporter": "python",
   "pygments_lexer": "ipython3",
   "version": "3.8.9"
  }
 },
 "nbformat": 4,
 "nbformat_minor": 5
}
